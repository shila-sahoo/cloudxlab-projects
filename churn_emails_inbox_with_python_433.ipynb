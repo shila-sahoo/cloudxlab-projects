{
 "cells": [
  {
   "cell_type": "code",
   "execution_count": 41,
   "metadata": {},
   "outputs": [],
   "source": [
    "def number_of_lines():\n",
    "    fhand = open('/cxldata/datasets/project/mbox-short.txt')\n",
    "    text=fhand.read()\n",
    "    lines=text.split('\\n')\n",
    "    line_count=0\n",
    "    for line in text:\n",
    "        line_count+=1\n",
    "    return line_count"
   ]
  },
  {
   "cell_type": "code",
   "execution_count": 42,
   "metadata": {},
   "outputs": [
    {
     "data": {
      "text/plain": [
       "94626"
      ]
     },
     "execution_count": 42,
     "metadata": {},
     "output_type": "execute_result"
    }
   ],
   "source": [
    "number_of_lines()"
   ]
  },
  {
   "cell_type": "code",
   "execution_count": 33,
   "metadata": {},
   "outputs": [
    {
     "data": {
      "text/plain": [
       "1910"
      ]
     },
     "execution_count": 33,
     "metadata": {},
     "output_type": "execute_result"
    }
   ],
   "source": [
    "def number_of_lines():\n",
    "    fhand = open('/cxldata/datasets/project/mbox-short.txt')\n",
    "    inp = fhand.read()\n",
    "    fhand.close()\n",
    "    count = 0\n",
    "    for c in inp:\n",
    "        if c == '\\n':\n",
    "            count += 1\n",
    "    return count\n",
    "number_of_lines()"
   ]
  },
  {
   "cell_type": "code",
   "execution_count": 46,
   "metadata": {},
   "outputs": [],
   "source": [
    "def count_number_of_lines():\n",
    "    fhand = open('/cxldata/datasets/project/mbox-short.txt')\n",
    "    count=0\n",
    "    for line in fhand:\n",
    "        if line.startswith('Subject:'):\n",
    "            count+=1\n",
    "    return count\n",
    "        "
   ]
  },
  {
   "cell_type": "code",
   "execution_count": 47,
   "metadata": {},
   "outputs": [
    {
     "data": {
      "text/plain": [
       "27"
      ]
     },
     "execution_count": 47,
     "metadata": {},
     "output_type": "execute_result"
    }
   ],
   "source": [
    "count_number_of_lines()"
   ]
  },
  {
   "cell_type": "code",
   "execution_count": 65,
   "metadata": {},
   "outputs": [
    {
     "name": "stdout",
     "output_type": "stream",
     "text": [
      "X-DSPAM-Confidence: 0.8475\n",
      "0.8475\n",
      "X-DSPAM-Confidence: 0.6178\n",
      "0.6178\n",
      "X-DSPAM-Confidence: 0.6961\n",
      "0.6961\n",
      "X-DSPAM-Confidence: 0.7565\n",
      "0.7565\n",
      "X-DSPAM-Confidence: 0.7626\n",
      "0.7626\n",
      "X-DSPAM-Confidence: 0.7556\n",
      "0.7556\n",
      "X-DSPAM-Confidence: 0.7002\n",
      "0.7002\n",
      "X-DSPAM-Confidence: 0.7615\n",
      "0.7615\n",
      "X-DSPAM-Confidence: 0.7601\n",
      "0.7601\n",
      "X-DSPAM-Confidence: 0.7605\n",
      "0.7605\n",
      "X-DSPAM-Confidence: 0.6959\n",
      "0.6959\n",
      "X-DSPAM-Confidence: 0.7606\n",
      "0.7606\n",
      "X-DSPAM-Confidence: 0.7559\n",
      "0.7559\n",
      "X-DSPAM-Confidence: 0.7605\n",
      "0.7605\n",
      "X-DSPAM-Confidence: 0.6932\n",
      "0.6932\n",
      "X-DSPAM-Confidence: 0.7558\n",
      "0.7558\n",
      "X-DSPAM-Confidence: 0.6526\n",
      "0.6526\n",
      "X-DSPAM-Confidence: 0.6948\n",
      "0.6948\n",
      "X-DSPAM-Confidence: 0.6528\n",
      "0.6528\n",
      "X-DSPAM-Confidence: 0.7002\n",
      "0.7002\n",
      "X-DSPAM-Confidence: 0.7554\n",
      "0.7554\n",
      "X-DSPAM-Confidence: 0.6956\n",
      "0.6956\n",
      "X-DSPAM-Confidence: 0.6959\n",
      "0.6959\n",
      "X-DSPAM-Confidence: 0.7556\n",
      "0.7556\n",
      "X-DSPAM-Confidence: 0.9846\n",
      "0.9846\n",
      "X-DSPAM-Confidence: 0.8509\n",
      "0.8509\n",
      "X-DSPAM-Confidence: 0.9907\n",
      "0.9907\n"
     ]
    }
   ],
   "source": [
    "fhand = open('/cxldata/datasets/project/mbox-short.txt')\n",
    "count = 0\n",
    "for line in fhand:\n",
    "    line = line.rstrip() # Remove new line characters from right\n",
    "    if line.startswith('X-DSPAM-Confidence:'):\n",
    "        print(line)\n",
    "        cs=float(line.split(\":\")[1])\n",
    "        print(cs)"
   ]
  },
  {
   "cell_type": "code",
   "execution_count": 71,
   "metadata": {},
   "outputs": [],
   "source": [
    "def average_spam_confidence():\n",
    "    fhand = open('/cxldata/datasets/project/mbox-short.txt')\n",
    "    count=0\n",
    "    conf_score_sum=0\n",
    "    for line in fhand:\n",
    "        if line.startswith('X-DSPAM-Confidence:'):\n",
    "            conf_score_sum+=float(line.split(\":\")[1])\n",
    "            count+=1\n",
    "    return conf_score_sum/count"
   ]
  },
  {
   "cell_type": "code",
   "execution_count": 73,
   "metadata": {},
   "outputs": [
    {
     "data": {
      "text/plain": [
       "0.7507185185185187"
      ]
     },
     "execution_count": 73,
     "metadata": {},
     "output_type": "execute_result"
    }
   ],
   "source": [
    "average_spam_confidence()"
   ]
  },
  {
   "cell_type": "code",
   "execution_count": 82,
   "metadata": {},
   "outputs": [
    {
     "data": {
      "text/plain": [
       "{'Sat': 1, 'Fri': 20, 'Thu': 6}"
      ]
     },
     "execution_count": 82,
     "metadata": {},
     "output_type": "execute_result"
    }
   ],
   "source": [
    "def find_email_sent_days():\n",
    "    fhand = open('/cxldata/datasets/project/mbox-short.txt')\n",
    "    week_dict={}\n",
    "    for line in fhand:\n",
    "        if line.startswith('From '):\n",
    "            week_day=line.split()[2]\n",
    "            week_dict[week_day]=week_dict.get(week_day, 0)+1\n",
    "    return week_dict\n",
    "find_email_sent_days()"
   ]
  },
  {
   "cell_type": "code",
   "execution_count": 88,
   "metadata": {},
   "outputs": [
    {
     "data": {
      "text/plain": [
       "{'stephen.marquard@uct.ac.za': 2,\n",
       " 'louis@media.berkeley.edu': 3,\n",
       " 'zqian@umich.edu': 4,\n",
       " 'rjlowe@iupui.edu': 2,\n",
       " 'cwen@iupui.edu': 5,\n",
       " 'gsilver@umich.edu': 3,\n",
       " 'wagnermr@iupui.edu': 1,\n",
       " 'antranig@caret.cam.ac.uk': 1,\n",
       " 'gopal.ramasammycook@gmail.com': 1,\n",
       " 'david.horwitz@uct.ac.za': 4,\n",
       " 'ray@media.berkeley.edu': 1}"
      ]
     },
     "execution_count": 88,
     "metadata": {},
     "output_type": "execute_result"
    }
   ],
   "source": [
    "def count_message_from_email():\n",
    "    fhand = open('/cxldata/datasets/project/mbox-short.txt')\n",
    "    mail_dict={}\n",
    "    for line in fhand:\n",
    "        if line.startswith('From '):\n",
    "            email_id=line.split()[1]\n",
    "            mail_dict[email_id]=mail_dict.get(email_id, 0)+1\n",
    "    return mail_dict\n",
    "count_message_from_email()"
   ]
  },
  {
   "cell_type": "code",
   "execution_count": 94,
   "metadata": {},
   "outputs": [
    {
     "data": {
      "text/plain": [
       "{'uct.ac.za': 6,\n",
       " 'media.berkeley.edu': 4,\n",
       " 'umich.edu': 7,\n",
       " 'iupui.edu': 8,\n",
       " 'caret.cam.ac.uk': 1,\n",
       " 'gmail.com': 1}"
      ]
     },
     "execution_count": 94,
     "metadata": {},
     "output_type": "execute_result"
    }
   ],
   "source": [
    "def count_message_from_domain():\n",
    "    fhand = open('/cxldata/datasets/project/mbox-short.txt')\n",
    "    domain_dict={}\n",
    "    for line in fhand:\n",
    "        if line.startswith('From '):\n",
    "            email_id=line.split()[1]\n",
    "            domain=email_id.split('@')[1]\n",
    "            domain_dict[domain]=domain_dict.get(domain, 0)+1\n",
    "    return domain_dict\n",
    "count_message_from_domain()"
   ]
  },
  {
   "cell_type": "code",
   "execution_count": null,
   "metadata": {},
   "outputs": [],
   "source": []
  }
 ],
 "metadata": {
  "kernelspec": {
   "display_name": "Python 3",
   "language": "python",
   "name": "python3"
  },
  "language_info": {
   "codemirror_mode": {
    "name": "ipython",
    "version": 3
   },
   "file_extension": ".py",
   "mimetype": "text/x-python",
   "name": "python",
   "nbconvert_exporter": "python",
   "pygments_lexer": "ipython3",
   "version": "3.6.8"
  },
  "toc": {
   "base_numbering": 1,
   "nav_menu": {},
   "number_sections": true,
   "sideBar": true,
   "skip_h1_title": false,
   "title_cell": "Table of Contents",
   "title_sidebar": "Contents",
   "toc_cell": false,
   "toc_position": {},
   "toc_section_display": true,
   "toc_window_display": false
  }
 },
 "nbformat": 4,
 "nbformat_minor": 2
}
