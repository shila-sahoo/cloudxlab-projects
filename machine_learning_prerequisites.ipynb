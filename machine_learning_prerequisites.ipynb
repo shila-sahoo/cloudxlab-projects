{
 "cells": [
  {
   "cell_type": "code",
   "execution_count": 2,
   "metadata": {},
   "outputs": [
    {
     "name": "stdout",
     "output_type": "stream",
     "text": [
      "[1 2 3]\n",
      "[3 4 5]\n"
     ]
    }
   ],
   "source": [
    "import numpy as np\n",
    "\n",
    "#create numpy array from list\n",
    "sample_list = [1,2,3]\n",
    "list_array = np.array(sample_list)\n",
    "print(list_array)\n",
    "\n",
    "#create numpy array from tuple\n",
    "tup = (3,4,5)\n",
    "my_tup_array = np.array(tup)\n",
    "print(my_tup_array)"
   ]
  },
  {
   "cell_type": "code",
   "execution_count": 3,
   "metadata": {},
   "outputs": [],
   "source": [
    "#Multiply two numpy arrays using loops\n",
    "def multiply_loops(A, B):\n",
    "    c=np.zeros((A.shape[0], B.shape[1]))\n",
    "    for i in range(A.shape[0]):\n",
    "        for k in range(B.shape[1]):\n",
    "            c[i,k] = 0\n",
    "            for j in range(B.shape[0]):\n",
    "                n = A[i,j] * B[j,k]\n",
    "                c[i,k] += n\n",
    "    return c"
   ]
  },
  {
   "cell_type": "code",
   "execution_count": 4,
   "metadata": {},
   "outputs": [],
   "source": [
    "#Multiply two numpy arrays using NumPy's vector multiplication\n",
    "def multiply_vector(A, B):\n",
    "     return A @ B"
   ]
  },
  {
   "cell_type": "code",
   "execution_count": 5,
   "metadata": {},
   "outputs": [
    {
     "name": "stdout",
     "output_type": "stream",
     "text": [
      "548 ms ± 8.54 ms per loop (mean ± std. dev. of 7 runs, 1 loop each)\n",
      "27.7 µs ± 2.95 µs per loop (mean ± std. dev. of 7 runs, 10000 loops each)\n",
      "33.7 µs ± 4.97 µs per loop (mean ± std. dev. of 7 runs, 10000 loops each)\n"
     ]
    }
   ],
   "source": [
    "X = np.random.random((100, 100))\n",
    "Y = np.random.random((100, 100))\n",
    "\n",
    "%timeit multiply_loops(X, Y)\n",
    "%timeit multiply_vector(X, Y)\n",
    "%timeit np.dot(X,Y)"
   ]
  },
  {
   "cell_type": "code",
   "execution_count": 6,
   "metadata": {},
   "outputs": [
    {
     "name": "stdout",
     "output_type": "stream",
     "text": [
      "[[0 0 0 0]\n",
      " [0 0 0 0]\n",
      " [0 0 0 0]]\n"
     ]
    }
   ],
   "source": [
    "#Create NumPy array with all zeros\n",
    "tup_dim = (3, 4)\n",
    "my_zeros_array = np.zeros(tup_dim, dtype=np.int16)\n",
    "print(my_zeros_array)"
   ]
  },
  {
   "cell_type": "code",
   "execution_count": 7,
   "metadata": {},
   "outputs": [
    {
     "name": "stdout",
     "output_type": "stream",
     "text": [
      "[[1 1 1 1]\n",
      " [1 1 1 1]\n",
      " [1 1 1 1]]\n"
     ]
    }
   ],
   "source": [
    "#Create NumPy array with all ones\n",
    "tup_dim = (3, 4)\n",
    "my_ones_array = np.ones(tup_dim, dtype=np.int16)\n",
    "print(my_ones_array)"
   ]
  },
  {
   "cell_type": "code",
   "execution_count": 8,
   "metadata": {},
   "outputs": [
    {
     "name": "stdout",
     "output_type": "stream",
     "text": [
      "[[7 7 7 7]\n",
      " [7 7 7 7]\n",
      " [7 7 7 7]]\n"
     ]
    }
   ],
   "source": [
    "#Create NumPy array with specific value\n",
    "tup_dim = (3, 4)\n",
    "my_seven_array = np.full(tup_dim, 7, dtype=np.int16)\n",
    "print(my_seven_array)"
   ]
  },
  {
   "cell_type": "code",
   "execution_count": 9,
   "metadata": {},
   "outputs": [
    {
     "name": "stdout",
     "output_type": "stream",
     "text": [
      "[[1. 0. 0. 0.]\n",
      " [0. 1. 0. 0.]\n",
      " [0. 0. 1. 0.]\n",
      " [0. 0. 0. 1.]]\n"
     ]
    }
   ],
   "source": [
    "#Create NumPy Identity matrix or array\n",
    "my_identity_array = np.identity(4, dtype=np.float64)\n",
    "print(my_identity_array)"
   ]
  },
  {
   "cell_type": "code",
   "execution_count": 10,
   "metadata": {},
   "outputs": [
    {
     "name": "stdout",
     "output_type": "stream",
     "text": [
      "[[0.40695034 0.533477   0.34465376 0.16172356]\n",
      " [0.76125966 0.12039704 0.25777012 0.37013137]\n",
      " [0.2534888  0.18048348 0.04031344 0.94996529]]\n"
     ]
    }
   ],
   "source": [
    "#Create NumPy matrix or array with random values\n",
    "my_rand_array = np.random.rand(3,4)\n",
    "print(my_rand_array)"
   ]
  },
  {
   "cell_type": "code",
   "execution_count": 11,
   "metadata": {},
   "outputs": [
    {
     "name": "stdout",
     "output_type": "stream",
     "text": [
      "[[0.40695034 0.533477   0.34465376 0.16172356]\n",
      " [0.76125966 0.12039704 0.25777012 0.37013137]\n",
      " [0.2534888  0.18048348 0.04031344 0.94996529]]\n"
     ]
    }
   ],
   "source": [
    "#Create NumPy array with uninitialized values\n",
    "tup_dim = (3, 4)\n",
    "my_uninitialized_array = np.empty(tup_dim)\n",
    "print(my_uninitialized_array)"
   ]
  },
  {
   "cell_type": "code",
   "execution_count": 12,
   "metadata": {},
   "outputs": [
    {
     "name": "stdout",
     "output_type": "stream",
     "text": [
      "[10 15 20 25]\n"
     ]
    }
   ],
   "source": [
    "#Create NumPy array with range of values - \n",
    "#start value(10), end value(30), gap value(5)\n",
    "my_range_array = np.arange(10,30, 5)\n",
    "print(my_range_array)"
   ]
  },
  {
   "cell_type": "code",
   "execution_count": 13,
   "metadata": {},
   "outputs": [
    {
     "name": "stdout",
     "output_type": "stream",
     "text": [
      "[0.         0.33333333 0.66666667 1.         1.33333333 1.66666667]\n"
     ]
    }
   ],
   "source": [
    "#Create NumPy array with equally spaced range of values - \n",
    "#start value(0), end value(5/3), total no. of values(6)\n",
    "my_spaced_array = np.linspace(0,5/3, 6)\n",
    "print(my_spaced_array)"
   ]
  },
  {
   "cell_type": "code",
   "execution_count": 14,
   "metadata": {},
   "outputs": [
    {
     "name": "stdout",
     "output_type": "stream",
     "text": [
      "2\n",
      "(3, 4)\n",
      "12\n",
      "int64\n",
      "8\n"
     ]
    }
   ],
   "source": [
    "my_array = np.array([ [1, 4, 5, 6], [7, 8, 9, 10], [11, 12, 14, 16] ])\n",
    "print(my_array.ndim)\n",
    "print(my_array.shape)\n",
    "print(my_array.size)\n",
    "print(my_array.dtype)\n",
    "print(my_array.itemsize)"
   ]
  },
  {
   "cell_type": "code",
   "execution_count": 15,
   "metadata": {},
   "outputs": [
    {
     "name": "stdout",
     "output_type": "stream",
     "text": [
      "[452600. 358500. 352100. 341300. 342200.]\n"
     ]
    }
   ],
   "source": [
    "#Load txt file using loadtxt()\n",
    "\n",
    "import os\n",
    "import pandas as pd\n",
    "\n",
    "# defining housing.csv file path\n",
    "HOUSING_PATH =  '/cxldata/datasets/project/housing'\n",
    "\n",
    "# reading the large housing.csv file using pandas\n",
    "housing_raw = pd.read_csv(os.path.join(HOUSING_PATH, \"housing.csv\"))\n",
    "\n",
    "# extracting only a few rows (5 rows) of data from the pandas dataframe 'my_df'\n",
    "my_df = housing_raw.iloc[ : 5]\n",
    "\n",
    "# creating a new small csv file - 'housing_short.csv' - containing the above extracted 5 rows of data\n",
    "my_df.to_csv('housing_short.csv', index=False)\n",
    "\n",
    "FILE = 'housing_short.csv'\n",
    "def load_housing_data(file = FILE ):\n",
    "    return np.loadtxt(file, dtype={'names': ('longitude','latitude','housing_median_age','total_rooms','total_bedrooms','population','households','median_income','median_house_value','ocean_proximity'),'formats': ('f8', 'f8', 'f8', 'f8', 'f8', 'f8', 'f8', 'f8', 'f8', '|S15')}, delimiter=',', skiprows=1, unpack=True)\n",
    "\n",
    "longitude_arr,latitude_arr,housing_median_age_arr,total_rooms_arr,total_bedrooms_arr,population_arr,households_arr,median_income_arr,median_house_value_arr,ocean_proximity_arr = load_housing_data()\n",
    "print(median_house_value_arr)"
   ]
  },
  {
   "cell_type": "code",
   "execution_count": 16,
   "metadata": {},
   "outputs": [
    {
     "name": "stdout",
     "output_type": "stream",
     "text": [
      "20640\n",
      "[(-122.23, 37.88, 41.,  880.,  129.,  322.,  126., 8.3252, 452600., b'NEAR BAY')\n",
      " (-122.22, 37.86, 21., 7099., 1106., 2401., 1138., 8.3014, 358500., b'NEAR BAY')\n",
      " (-122.24, 37.85, 52., 1467.,  190.,  496.,  177., 7.2574, 352100., b'NEAR BAY')\n",
      " ...\n",
      " (-121.22, 39.43, 17., 2254.,  485., 1007.,  433., 1.7   ,  92300., b'INLAND')\n",
      " (-121.32, 39.43, 18., 1860.,  409.,  741.,  349., 1.8672,  84700., b'INLAND')\n",
      " (-121.24, 39.37, 16., 2785.,  616., 1387.,  530., 2.3886,  89400., b'INLAND')]\n"
     ]
    }
   ],
   "source": [
    "#Load txt file using genfromtxt()\n",
    "\n",
    "import os\n",
    "import numpy as np\n",
    "\n",
    "# defining housing.csv file path\n",
    "HOUSING_PATH =  '/cxldata/datasets/project/housing'\n",
    "\n",
    "# reading the large housing.csv file using pandas\n",
    "FILE = os.path.join(HOUSING_PATH, \"housing.csv\")\n",
    "\n",
    "def load_housing_dataset(file = FILE ):\n",
    "    return np.genfromtxt(file, dtype={'names': ('longitude','latitude','housing_median_age','total_rooms','total_bedrooms','population','households','median_income','median_house_value','ocean_proximity'),'formats': ('f8', 'f8', 'f8', 'f8', 'f8', 'f8', 'f8', 'f8', 'f8', '|S15')}, delimiter=',', skip_header=1, filling_values = 99999999, unpack=False)\n",
    "\n",
    "result_arr = load_housing_dataset()\n",
    "print(result_arr.size)\n",
    "print(result_arr)"
   ]
  },
  {
   "cell_type": "code",
   "execution_count": 17,
   "metadata": {},
   "outputs": [
    {
     "name": "stdout",
     "output_type": "stream",
     "text": [
      "[[1 2 3 4]\n",
      " [5 6 7 8]\n",
      " [0 0 0 0]]\n"
     ]
    }
   ],
   "source": [
    "#Resize NumPy array - can create array of larger size than original\n",
    "\n",
    "my_arr = np.array([[1,2,3,4],[5,6,7,8]])\n",
    "my_arr.resize((3,4))\n",
    "print(my_arr)"
   ]
  },
  {
   "cell_type": "code",
   "execution_count": 11,
   "metadata": {},
   "outputs": [
    {
     "name": "stdout",
     "output_type": "stream",
     "text": [
      "[[1 2 3 4]\n",
      " [5 6 7 8]]\n",
      "[1 2 3 4 5 6 7 8]\n",
      "[[0 1 2]\n",
      " [3 4 5]\n",
      " [6 7 8]]\n",
      "[0 1 2 3 4 5 6 7 8]\n"
     ]
    }
   ],
   "source": [
    "#Reshape NumPy array - same no. of elements as the original array\n",
    "\n",
    "my_first_arr = np.array([1,2,3,4,5,6,7,8])\n",
    "my_new_arr = my_first_arr.reshape((2,4))\n",
    "print(my_new_arr)\n",
    "print(my_first_arr)\n",
    "\n",
    "#Reshaping when desired number of rows is unknown\n",
    "my_second_arr = np.arange(9)\n",
    "my_updated_arr = my_second_arr.reshape(-1,3)\n",
    "print(my_updated_arr)\n",
    "print(my_second_arr)"
   ]
  },
  {
   "cell_type": "code",
   "execution_count": 37,
   "metadata": {
    "code_folding": []
   },
   "outputs": [
    {
     "name": "stdout",
     "output_type": "stream",
     "text": [
      "[12 89  7 26  9  3 15  1]\n"
     ]
    }
   ],
   "source": [
    "#Reversing NumPy array\n",
    "my_orig_arr = np.array((1, 15, 3, 9, 26, 7, 89, 12))\n",
    "my_rev_arr = my_orig_arr[::-1]\n",
    "print(my_rev_arr)"
   ]
  },
  {
   "cell_type": "code",
   "execution_count": 38,
   "metadata": {},
   "outputs": [
    {
     "name": "stdout",
     "output_type": "stream",
     "text": [
      "[ 2  9 -6 -6 -6  4 20 57]\n"
     ]
    }
   ],
   "source": [
    "#Replacing selected items in NumPy array\n",
    "my_orig_arr2 = np.array((2, 9, 17, 13, 1, 4, 20, 57))\n",
    "my_orig_arr2[2:5] = -6\n",
    "print(my_orig_arr2)"
   ]
  },
  {
   "cell_type": "code",
   "execution_count": 39,
   "metadata": {},
   "outputs": [
    {
     "name": "stdout",
     "output_type": "stream",
     "text": [
      "[ 8 23  3]\n",
      "[ 1  8 23  3 18 91  7 15]\n",
      "[    8 99999     3]\n",
      "[    1     8 99999     3    18    91     7    15]\n",
      "[ 99999 222222     18]\n",
      "[    1     8 99999     3    18    91     7    15]\n"
     ]
    }
   ],
   "source": [
    "#Extracting slice of NumPy array\n",
    "apple = np.array((1, 8, 23, 3, 18, 91, 7, 15))\n",
    "apple_slice = apple[1 : 4]\n",
    "print(apple_slice)\n",
    "print(apple)\n",
    "\n",
    "apple_slice[1] = 99999\n",
    "print(apple_slice)\n",
    "print(apple)\n",
    "\n",
    "apple_slice_new = apple[2 : 5].copy()\n",
    "apple_slice_new[1] = 222222\n",
    "print(apple_slice_new)\n",
    "print(apple)"
   ]
  },
  {
   "cell_type": "code",
   "execution_count": 2,
   "metadata": {},
   "outputs": [
    {
     "name": "stdout",
     "output_type": "stream",
     "text": [
      "(427, 640, 3)\n",
      "(70, 120, 3)\n",
      "(70, 120)\n"
     ]
    },
    {
     "data": {
      "text/plain": [
       "(1, 70, 120, 1)"
      ]
     },
     "execution_count": 2,
     "metadata": {},
     "output_type": "execute_result"
    }
   ],
   "source": [
    "from sklearn.datasets import load_sample_image \n",
    "import numpy as np\n",
    "\n",
    "china = load_sample_image(\"china.jpg\")\n",
    "image = china[150:220, 130:250]\n",
    "#print(image)\n",
    "print(china.shape)\n",
    "print(image.shape)\n",
    "height, width, channels = image.shape\n",
    "image_grayscale = image.mean(axis=2).astype(np.float32)\n",
    "print(image_grayscale.shape)\n",
    "images = image_grayscale.reshape(1, height, width, 1)\n",
    "images.shape"
   ]
  },
  {
   "cell_type": "code",
   "execution_count": 3,
   "metadata": {},
   "outputs": [
    {
     "name": "stdout",
     "output_type": "stream",
     "text": [
      "[[12 13 14]\n",
      " [17 18 19]]\n"
     ]
    }
   ],
   "source": [
    "my_multi_arr = np.arange(20).reshape(4,5)\n",
    "my_multi_arr_portion = my_multi_arr[2:4, 2:5]\n",
    "print(my_multi_arr_portion)"
   ]
  },
  {
   "cell_type": "code",
   "execution_count": 8,
   "metadata": {},
   "outputs": [
    {
     "name": "stdout",
     "output_type": "stream",
     "text": [
      "[ 0  1  2  3  4  5  6  7  8  9 10 11 12 13 14 15 16 17 18 19]\n"
     ]
    }
   ],
   "source": [
    "#Convert 2-D or 3-D array to 1-D array\n",
    "import numpy as np\n",
    "\n",
    "my_2d_arr = np.arange(20).reshape(4,5)\n",
    "my_1d_arr = my_2d_arr.ravel()\n",
    "print(my_1d_arr)"
   ]
  },
  {
   "cell_type": "code",
   "execution_count": 28,
   "metadata": {},
   "outputs": [
    {
     "name": "stdout",
     "output_type": "stream",
     "text": [
      "[60 71 82 93]\n",
      "[60 69 78 87]\n"
     ]
    }
   ],
   "source": [
    "#Addition and Subtraction of Arrays (element wise)\n",
    "\n",
    "a_arr = np.array((60, 70, 80, 90))\n",
    "b_arr = np.arange(4)\n",
    "c_arr = a_arr + b_arr\n",
    "print(c_arr)\n",
    "\n",
    "d_arr = np.array((60, 70, 80, 90))\n",
    "e_arr = np.arange(4)\n",
    "f_arr = d_arr - e_arr\n",
    "print(f_arr)"
   ]
  },
  {
   "cell_type": "code",
   "execution_count": 1,
   "metadata": {},
   "outputs": [
    {
     "name": "stdout",
     "output_type": "stream",
     "text": [
      "[[10 72]\n",
      " [ 4 42]]\n",
      "[[19 94]\n",
      " [15 74]]\n"
     ]
    }
   ],
   "source": [
    "#Element wise product of two arrays (using *)\n",
    "import numpy as np\n",
    "\n",
    "A_arr = np.array([ [ 5,9], [4, 7] ])\n",
    "B_arr = np.array( [ [2, 8], [1, 6] ] )\n",
    "M_arr = A_arr * B_arr\n",
    "print(M_arr)\n",
    "\n",
    "#Matrix multiplication of two arrays (using dot)\n",
    "C_arr = np.array([ [ 5,9], [4, 7] ])\n",
    "D_arr = np.array( [ [2, 8], [1, 6] ] )\n",
    "P_arr = np.dot(C_arr,D_arr)\n",
    "print(P_arr)\n"
   ]
  },
  {
   "cell_type": "code",
   "execution_count": 18,
   "metadata": {},
   "outputs": [
    {
     "name": "stdout",
     "output_type": "stream",
     "text": [
      "[[12.5  6.5]\n",
      " [10.   2.8]]\n",
      "[[12  6]\n",
      " [ 5 23]]\n",
      "[[0 5]\n",
      " [0 1]]\n"
     ]
    }
   ],
   "source": [
    "#Element wise division of two arrays (using /)\n",
    "R_div = np.array([ [ 25,65], [40, 14] ])\n",
    "S_div = np.array([ [2, 10], [4, 5] ] )\n",
    "T_div = R_div/S_div\n",
    "print(T_div)\n",
    "\n",
    "#Integer division of two arrays (using //)\n",
    "R_int_div = np.array([ [ 25,65], [40, 70] ])\n",
    "S_int_div = np.array([ [2, 10], [8, 3] ] )\n",
    "T_int_div = R_int_div//S_int_div\n",
    "print(T_int_div)\n",
    "\n",
    "#Modulus division of two arrays (using %)\n",
    "R_mod = np.array([ [ 20,65], [40, 70] ])\n",
    "S_mod = np.array([ [2, 10], [8, 3] ] )\n",
    "T_mod = R_mod%S_mod\n",
    "print(T_mod)"
   ]
  },
  {
   "cell_type": "code",
   "execution_count": 37,
   "metadata": {},
   "outputs": [
    {
     "name": "stdout",
     "output_type": "stream",
     "text": [
      "[[  16 1024]\n",
      " [  81 1024]]\n"
     ]
    }
   ],
   "source": [
    "#Element wise exponentition of an array using another exponent array(using **)\n",
    "\n",
    "R_exp = np.array([ [ 4, 2], [3, 4 ] ] )\n",
    "S_exp = np.array( [ [2, 10], [4, 5] ] )\n",
    "T_exp = R_exp**S_exp\n",
    "print(T_exp)"
   ]
  },
  {
   "cell_type": "code",
   "execution_count": 47,
   "metadata": {},
   "outputs": [
    {
     "name": "stdout",
     "output_type": "stream",
     "text": [
      "[22  4]\n"
     ]
    }
   ],
   "source": [
    "#Get all the elements of an array which are less than 45\n",
    "U = np.array([ [ 22, 45], [90, 4 ] ] )\n",
    "print(U[U<45])"
   ]
  },
  {
   "cell_type": "code",
   "execution_count": 55,
   "metadata": {},
   "outputs": [
    {
     "name": "stdout",
     "output_type": "stream",
     "text": [
      "mean =  1.8333333333333333\n",
      "Variance =  11.805555555555557\n",
      "Standard Deviation =  3.435921354681384\n",
      "min =  -5\n",
      "max =  6\n",
      "sum =  11\n",
      "product =  -720\n"
     ]
    }
   ],
   "source": [
    "#Statistical Functions\n",
    "\n",
    "X_stat = np.array([ [ 1, 2, 3], [ 4, -5, 6] ])\n",
    "#Mean\n",
    "print(\"mean = \", X_stat.mean())\n",
    "\n",
    "#Variance\n",
    "print(\"Variance = \", X_stat.var())\n",
    "\n",
    "#Standard Deviation\n",
    "print(\"Standard Deviation = \", X_stat.std())\n",
    "\n",
    "#Minimum\n",
    "print(\"min = \", X_stat.min())\n",
    "\n",
    "#Maximum\n",
    "print(\"max = \", X_stat.max())\n",
    "\n",
    "#Sum\n",
    "print(\"sum = \", X_stat.sum())\n",
    "\n",
    "#Product\n",
    "print(\"product = \", X_stat.prod())"
   ]
  },
  {
   "cell_type": "code",
   "execution_count": 68,
   "metadata": {},
   "outputs": [
    {
     "name": "stdout",
     "output_type": "stream",
     "text": [
      "[[[ 0  1  2]\n",
      "  [ 3  4  5]\n",
      "  [ 6  7  8]]\n",
      "\n",
      " [[ 9 10 11]\n",
      "  [12 13 14]\n",
      "  [15 16 17]]]\n",
      "[[ 9 11 13]\n",
      " [15 17 19]\n",
      " [21 23 25]]\n",
      "[[ 9 12 15]\n",
      " [36 39 42]]\n",
      "[[ 3 12 21]\n",
      " [30 39 48]]\n"
     ]
    }
   ],
   "source": [
    "#Sum across axes\n",
    "Z = np.arange(18).reshape(2,3,3)\n",
    "print(Z)\n",
    "print(Z.sum(axis=0))\n",
    "print(Z.sum(axis=1))\n",
    "print(Z.sum(axis=2))"
   ]
  },
  {
   "cell_type": "code",
   "execution_count": 74,
   "metadata": {},
   "outputs": [
    {
     "name": "stdout",
     "output_type": "stream",
     "text": [
      "[[0 1]\n",
      " [2 3]\n",
      " [4 5]]\n",
      "Transpose =  [[0 2 4]\n",
      " [1 3 5]]\n"
     ]
    }
   ],
   "source": [
    "#Transpose\n",
    "N = np.arange(6).reshape(3,2)\n",
    "print(N)\n",
    "print(\"Transpose = \", N.T)"
   ]
  },
  {
   "cell_type": "code",
   "execution_count": 85,
   "metadata": {},
   "outputs": [
    {
     "name": "stdout",
     "output_type": "stream",
     "text": [
      "[[1. 1. 1.]\n",
      " [1. 1. 1.]\n",
      " [1. 1. 1.]]\n",
      "[0 1 2]\n",
      "[[1. 2. 3.]\n",
      " [1. 2. 3.]\n",
      " [1. 2. 3.]]\n"
     ]
    }
   ],
   "source": [
    "#Broadcasting - adjust the shape of one or both of the arrays to bring them to required matching shape\n",
    "X_broad = np.ones((3,3))\n",
    "print(X_broad)\n",
    "Y_broad = np.arange(3)\n",
    "print(Y_broad)\n",
    "Z_broad = X_broad+Y_broad\n",
    "print(Z_broad)"
   ]
  },
  {
   "cell_type": "code",
   "execution_count": null,
   "metadata": {},
   "outputs": [],
   "source": []
  }
 ],
 "metadata": {
  "kernelspec": {
   "display_name": "Python 3",
   "language": "python",
   "name": "python3"
  },
  "language_info": {
   "codemirror_mode": {
    "name": "ipython",
    "version": 3
   },
   "file_extension": ".py",
   "mimetype": "text/x-python",
   "name": "python",
   "nbconvert_exporter": "python",
   "pygments_lexer": "ipython3",
   "version": "3.6.8"
  },
  "toc": {
   "base_numbering": 1,
   "nav_menu": {},
   "number_sections": true,
   "sideBar": true,
   "skip_h1_title": false,
   "title_cell": "Table of Contents",
   "title_sidebar": "Contents",
   "toc_cell": false,
   "toc_position": {},
   "toc_section_display": true,
   "toc_window_display": false
  }
 },
 "nbformat": 4,
 "nbformat_minor": 2
}
